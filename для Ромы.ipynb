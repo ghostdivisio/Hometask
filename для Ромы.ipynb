{
 "cells": [
  {
   "cell_type": "code",
   "execution_count": 5,
   "id": "29a04daa",
   "metadata": {},
   "outputs": [
    {
     "name": "stdout",
     "output_type": "stream",
     "text": [
      "4\n"
     ]
    }
   ],
   "source": [
    "n = 5\n",
    "a = [2, 1, 5, 0, 3]\n",
    "i = 0\n",
    "for i in a:\n",
    "    i+=1\n",
    "    if a.count(i)==0 and i !=n+1:\n",
    "        print(i)       "
   ]
  },
  {
   "cell_type": "code",
   "execution_count": 2,
   "id": "6834d470",
   "metadata": {},
   "outputs": [
    {
     "data": {
      "text/plain": [
       "'camelcamelcasevarasecamelcasevarar'"
      ]
     },
     "execution_count": 2,
     "metadata": {},
     "output_type": "execute_result"
    }
   ],
   "source": [
    "#хрень какая-то\n",
    "def v(x):\n",
    "    import re\n",
    "    \n",
    "    x=re.sub(r\"[A-Z]\", x.lower(), x)\n",
    "    return(x)\n",
    "v('camelCaseVar')"
   ]
  },
  {
   "cell_type": "code",
   "execution_count": null,
   "id": "91435837",
   "metadata": {},
   "outputs": [],
   "source": []
  }
 ],
 "metadata": {
  "kernelspec": {
   "display_name": "Python 3 (ipykernel)",
   "language": "python",
   "name": "python3"
  },
  "language_info": {
   "codemirror_mode": {
    "name": "ipython",
    "version": 3
   },
   "file_extension": ".py",
   "mimetype": "text/x-python",
   "name": "python",
   "nbconvert_exporter": "python",
   "pygments_lexer": "ipython3",
   "version": "3.7.13"
  }
 },
 "nbformat": 4,
 "nbformat_minor": 5
}
